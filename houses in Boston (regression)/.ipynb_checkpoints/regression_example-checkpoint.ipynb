{
 "cells": [
  {
   "cell_type": "code",
   "execution_count": 1,
   "metadata": {},
   "outputs": [
    {
     "name": "stderr",
     "output_type": "stream",
     "text": [
      "C:\\Users\\Alexandra\\Anaconda2\\envs\\py35\\lib\\site-packages\\h5py\\__init__.py:36: FutureWarning: Conversion of the second argument of issubdtype from `float` to `np.floating` is deprecated. In future, it will be treated as `np.float64 == np.dtype(float).type`.\n",
      "  from ._conv import register_converters as _register_converters\n",
      "Using TensorFlow backend.\n"
     ]
    }
   ],
   "source": [
    "from keras.datasets import boston_housing\n",
    "from keras.models import Sequential\n",
    "from keras.layers import Dense"
   ]
  },
  {
   "cell_type": "markdown",
   "metadata": {},
   "source": [
    "# Загрузка набора данных"
   ]
  },
  {
   "cell_type": "code",
   "execution_count": 2,
   "metadata": {},
   "outputs": [
    {
     "name": "stdout",
     "output_type": "stream",
     "text": [
      "Downloading data from https://s3.amazonaws.com/keras-datasets/boston_housing.npz\n",
      "57344/57026 [==============================] - 1s 17us/step\n"
     ]
    }
   ],
   "source": [
    "(x_train, y_train), (x_test, y_test) = boston_housing.load_data()"
   ]
  },
  {
   "cell_type": "markdown",
   "metadata": {},
   "source": [
    "# Нормализация данных\n",
    "\n",
    "Вычитаем среднее значение и делим на стандартное отклонение"
   ]
  },
  {
   "cell_type": "code",
   "execution_count": 3,
   "metadata": {},
   "outputs": [],
   "source": [
    "# Среднее значение\n",
    "mean = x_train.mean(axis=0)\n",
    "# Стандартное отклонение\n",
    "std = x_train.std(axis=0)\n",
    "x_train -= mean\n",
    "x_train /= std\n",
    "x_test -= mean\n",
    "x_test /= std"
   ]
  },
  {
   "cell_type": "markdown",
   "metadata": {},
   "source": [
    "# Создаем сеть\n",
    "\n",
    "Выходной слой с одним линейным нейроном - для задачи регрессии функция активации не используется.\n",
    "\n",
    "Функция ошибки - среднеквадратичное отклонение.\n",
    "Метрика - среднее абсолютное отклонение."
   ]
  },
  {
   "cell_type": "code",
   "execution_count": 4,
   "metadata": {},
   "outputs": [],
   "source": [
    "model = Sequential()\n",
    "model.add(Dense(128, activation='relu', input_shape=(x_train.shape[1],)))\n",
    "model.add(Dense(1))\n",
    "model.compile(optimizer='adam', loss='mse', metrics=['mae'])"
   ]
  },
  {
   "cell_type": "markdown",
   "metadata": {},
   "source": [
    "# Обучение сети"
   ]
  },
  {
   "cell_type": "code",
   "execution_count": 6,
   "metadata": {},
   "outputs": [
    {
     "name": "stdout",
     "output_type": "stream",
     "text": [
      "Epoch 1/100\n",
      " - 1s - loss: 43.0118 - mean_absolute_error: 4.3362\n",
      "Epoch 2/100\n",
      " - 1s - loss: 26.5950 - mean_absolute_error: 3.4349\n",
      "Epoch 3/100\n",
      " - 1s - loss: 22.3782 - mean_absolute_error: 3.2856\n",
      "Epoch 4/100\n",
      " - 1s - loss: 19.4679 - mean_absolute_error: 3.0811\n",
      "Epoch 5/100\n",
      " - 1s - loss: 16.6579 - mean_absolute_error: 2.9048\n",
      "Epoch 6/100\n",
      " - 1s - loss: 14.6416 - mean_absolute_error: 2.7063\n",
      "Epoch 7/100\n",
      " - 1s - loss: 13.4305 - mean_absolute_error: 2.6068\n",
      "Epoch 8/100\n",
      " - 1s - loss: 11.8745 - mean_absolute_error: 2.4429\n",
      "Epoch 9/100\n",
      " - 1s - loss: 11.1103 - mean_absolute_error: 2.3744\n",
      "Epoch 10/100\n",
      " - 1s - loss: 10.6051 - mean_absolute_error: 2.2955\n",
      "Epoch 11/100\n",
      " - 1s - loss: 9.9760 - mean_absolute_error: 2.2196\n",
      "Epoch 12/100\n",
      " - 1s - loss: 9.6628 - mean_absolute_error: 2.2035\n",
      "Epoch 13/100\n",
      " - 1s - loss: 9.4039 - mean_absolute_error: 2.1785\n",
      "Epoch 14/100\n",
      " - 1s - loss: 9.2590 - mean_absolute_error: 2.0971\n",
      "Epoch 15/100\n",
      " - 1s - loss: 9.0830 - mean_absolute_error: 2.1458\n",
      "Epoch 16/100\n",
      " - 1s - loss: 8.8694 - mean_absolute_error: 2.0774\n",
      "Epoch 17/100\n",
      " - 1s - loss: 8.7023 - mean_absolute_error: 2.0543\n",
      "Epoch 18/100\n",
      " - 1s - loss: 8.3309 - mean_absolute_error: 2.0431\n",
      "Epoch 19/100\n",
      " - 1s - loss: 8.3694 - mean_absolute_error: 2.0473\n",
      "Epoch 20/100\n",
      " - 1s - loss: 8.2129 - mean_absolute_error: 2.0173\n",
      "Epoch 21/100\n",
      " - 1s - loss: 8.0576 - mean_absolute_error: 1.9774\n",
      "Epoch 22/100\n",
      " - 1s - loss: 8.2016 - mean_absolute_error: 2.0284\n",
      "Epoch 23/100\n",
      " - 1s - loss: 8.0696 - mean_absolute_error: 1.9996\n",
      "Epoch 24/100\n",
      " - 1s - loss: 7.8626 - mean_absolute_error: 1.9660\n",
      "Epoch 25/100\n",
      " - 1s - loss: 7.7013 - mean_absolute_error: 1.9358\n",
      "Epoch 26/100\n",
      " - 1s - loss: 7.4959 - mean_absolute_error: 1.8951\n",
      "Epoch 27/100\n",
      " - 1s - loss: 7.3647 - mean_absolute_error: 1.9363\n",
      "Epoch 28/100\n",
      " - 1s - loss: 7.4428 - mean_absolute_error: 1.9210\n",
      "Epoch 29/100\n",
      " - 1s - loss: 7.3277 - mean_absolute_error: 1.9353\n",
      "Epoch 30/100\n",
      " - 1s - loss: 7.3998 - mean_absolute_error: 1.9288\n",
      "Epoch 31/100\n",
      " - 1s - loss: 7.0798 - mean_absolute_error: 1.8991\n",
      "Epoch 32/100\n",
      " - 1s - loss: 6.6947 - mean_absolute_error: 1.8294\n",
      "Epoch 33/100\n",
      " - 1s - loss: 6.8717 - mean_absolute_error: 1.8827\n",
      "Epoch 34/100\n",
      " - 1s - loss: 6.8532 - mean_absolute_error: 1.8441\n",
      "Epoch 35/100\n",
      " - 1s - loss: 6.9775 - mean_absolute_error: 1.8847\n",
      "Epoch 36/100\n",
      " - 1s - loss: 6.8994 - mean_absolute_error: 1.8819\n",
      "Epoch 37/100\n",
      " - 1s - loss: 6.7055 - mean_absolute_error: 1.8228\n",
      "Epoch 38/100\n",
      " - 1s - loss: 6.4659 - mean_absolute_error: 1.8152\n",
      "Epoch 39/100\n",
      " - 1s - loss: 6.7537 - mean_absolute_error: 1.8697\n",
      "Epoch 40/100\n",
      " - 1s - loss: 6.4638 - mean_absolute_error: 1.7742\n",
      "Epoch 41/100\n",
      " - 1s - loss: 6.4143 - mean_absolute_error: 1.7705\n",
      "Epoch 42/100\n",
      " - 1s - loss: 6.4186 - mean_absolute_error: 1.7820\n",
      "Epoch 43/100\n",
      " - 1s - loss: 6.3214 - mean_absolute_error: 1.7566\n",
      "Epoch 44/100\n",
      " - 1s - loss: 6.0682 - mean_absolute_error: 1.7548\n",
      "Epoch 45/100\n",
      " - 1s - loss: 6.2894 - mean_absolute_error: 1.7793\n",
      "Epoch 46/100\n",
      " - 1s - loss: 6.1580 - mean_absolute_error: 1.7606\n",
      "Epoch 47/100\n",
      " - 1s - loss: 6.2635 - mean_absolute_error: 1.7730\n",
      "Epoch 48/100\n",
      " - 1s - loss: 6.0268 - mean_absolute_error: 1.7589\n",
      "Epoch 49/100\n",
      " - 1s - loss: 5.8911 - mean_absolute_error: 1.7340\n",
      "Epoch 50/100\n",
      " - 1s - loss: 5.9786 - mean_absolute_error: 1.7591\n",
      "Epoch 51/100\n",
      " - 1s - loss: 6.0977 - mean_absolute_error: 1.7500\n",
      "Epoch 52/100\n",
      " - 1s - loss: 5.8160 - mean_absolute_error: 1.7168\n",
      "Epoch 53/100\n",
      " - 1s - loss: 5.9827 - mean_absolute_error: 1.7456\n",
      "Epoch 54/100\n",
      " - 1s - loss: 5.6955 - mean_absolute_error: 1.7156\n",
      "Epoch 55/100\n",
      " - 1s - loss: 5.8465 - mean_absolute_error: 1.7468\n",
      "Epoch 56/100\n",
      " - 1s - loss: 5.8373 - mean_absolute_error: 1.7261\n",
      "Epoch 57/100\n",
      " - 1s - loss: 5.6352 - mean_absolute_error: 1.6968\n",
      "Epoch 58/100\n",
      " - 1s - loss: 5.4998 - mean_absolute_error: 1.6918\n",
      "Epoch 59/100\n",
      " - 1s - loss: 5.7076 - mean_absolute_error: 1.6656\n",
      "Epoch 60/100\n",
      " - 1s - loss: 5.4595 - mean_absolute_error: 1.6805\n",
      "Epoch 61/100\n",
      " - 1s - loss: 5.3662 - mean_absolute_error: 1.6394\n",
      "Epoch 62/100\n",
      " - 1s - loss: 5.4723 - mean_absolute_error: 1.6703\n",
      "Epoch 63/100\n",
      " - 1s - loss: 5.4672 - mean_absolute_error: 1.6456\n",
      "Epoch 64/100\n",
      " - 1s - loss: 5.3268 - mean_absolute_error: 1.6315\n",
      "Epoch 65/100\n",
      " - 1s - loss: 5.3046 - mean_absolute_error: 1.5935\n",
      "Epoch 66/100\n",
      " - 1s - loss: 5.2539 - mean_absolute_error: 1.6365\n",
      "Epoch 67/100\n",
      " - 1s - loss: 5.3473 - mean_absolute_error: 1.6531\n",
      "Epoch 68/100\n",
      " - 1s - loss: 5.1926 - mean_absolute_error: 1.6253\n",
      "Epoch 69/100\n",
      " - 1s - loss: 5.2245 - mean_absolute_error: 1.6228\n",
      "Epoch 70/100\n",
      " - 1s - loss: 5.0624 - mean_absolute_error: 1.6087\n",
      "Epoch 71/100\n",
      " - 1s - loss: 5.1903 - mean_absolute_error: 1.6500\n",
      "Epoch 72/100\n",
      " - 1s - loss: 5.1496 - mean_absolute_error: 1.6288\n",
      "Epoch 73/100\n",
      " - 1s - loss: 4.8405 - mean_absolute_error: 1.5613\n",
      "Epoch 74/100\n",
      " - 1s - loss: 4.9443 - mean_absolute_error: 1.5922\n",
      "Epoch 75/100\n",
      " - 1s - loss: 5.2697 - mean_absolute_error: 1.6171\n",
      "Epoch 76/100\n",
      " - 1s - loss: 5.2560 - mean_absolute_error: 1.6632\n",
      "Epoch 77/100\n",
      " - 1s - loss: 4.9321 - mean_absolute_error: 1.5723\n",
      "Epoch 78/100\n",
      " - 1s - loss: 4.8810 - mean_absolute_error: 1.5813\n",
      "Epoch 79/100\n",
      " - 1s - loss: 4.8609 - mean_absolute_error: 1.5711\n",
      "Epoch 80/100\n",
      " - 1s - loss: 5.0133 - mean_absolute_error: 1.5797\n",
      "Epoch 81/100\n",
      " - 1s - loss: 4.8359 - mean_absolute_error: 1.5452\n",
      "Epoch 82/100\n",
      " - 1s - loss: 4.7789 - mean_absolute_error: 1.5441\n",
      "Epoch 83/100\n",
      " - 1s - loss: 4.9404 - mean_absolute_error: 1.5991\n",
      "Epoch 84/100\n",
      " - 1s - loss: 4.8321 - mean_absolute_error: 1.5620\n",
      "Epoch 85/100\n",
      " - 1s - loss: 4.7887 - mean_absolute_error: 1.5544\n",
      "Epoch 86/100\n",
      " - 1s - loss: 4.8268 - mean_absolute_error: 1.5605\n",
      "Epoch 87/100\n",
      " - 1s - loss: 4.7150 - mean_absolute_error: 1.5401\n",
      "Epoch 88/100\n",
      " - 1s - loss: 4.6551 - mean_absolute_error: 1.5108\n",
      "Epoch 89/100\n",
      " - 1s - loss: 4.5417 - mean_absolute_error: 1.5156\n",
      "Epoch 90/100\n",
      " - 1s - loss: 4.6140 - mean_absolute_error: 1.5400\n",
      "Epoch 91/100\n",
      " - 1s - loss: 4.4981 - mean_absolute_error: 1.5164\n",
      "Epoch 92/100\n",
      " - 1s - loss: 4.5745 - mean_absolute_error: 1.5278\n",
      "Epoch 93/100\n",
      " - 1s - loss: 4.4259 - mean_absolute_error: 1.4649\n",
      "Epoch 94/100\n",
      " - 1s - loss: 4.4809 - mean_absolute_error: 1.4889\n",
      "Epoch 95/100\n",
      " - 1s - loss: 4.3470 - mean_absolute_error: 1.5100\n",
      "Epoch 96/100\n",
      " - 1s - loss: 4.4126 - mean_absolute_error: 1.4995\n",
      "Epoch 97/100\n",
      " - 1s - loss: 4.4000 - mean_absolute_error: 1.5104\n",
      "Epoch 98/100\n",
      " - 1s - loss: 4.3709 - mean_absolute_error: 1.4989\n",
      "Epoch 99/100\n",
      " - 1s - loss: 4.4022 - mean_absolute_error: 1.4592\n",
      "Epoch 100/100\n",
      " - 1s - loss: 4.0624 - mean_absolute_error: 1.4219\n"
     ]
    },
    {
     "data": {
      "text/plain": [
       "<keras.callbacks.History at 0x1e1c6d8aef0>"
      ]
     },
     "execution_count": 6,
     "metadata": {},
     "output_type": "execute_result"
    }
   ],
   "source": [
    "model.fit(x_train, y_train, epochs=100, batch_size=1, verbose=2)"
   ]
  },
  {
   "cell_type": "markdown",
   "metadata": {},
   "source": [
    "# Оценка точности работы сети"
   ]
  },
  {
   "cell_type": "code",
   "execution_count": 7,
   "metadata": {},
   "outputs": [],
   "source": [
    "mse, mae = model.evaluate(x_test, y_test, verbose=0)"
   ]
  },
  {
   "cell_type": "code",
   "execution_count": 8,
   "metadata": {},
   "outputs": [
    {
     "name": "stdout",
     "output_type": "stream",
     "text": [
      "Средняя абсолютная ошибка (тысяч долларов): 2.4638279466068043\n"
     ]
    }
   ],
   "source": [
    "print(\"Средняя абсолютная ошибка (тысяч долларов):\", mae)"
   ]
  },
  {
   "cell_type": "markdown",
   "metadata": {},
   "source": [
    "# Использование сети для предсказания цен недвижимости"
   ]
  },
  {
   "cell_type": "code",
   "execution_count": 9,
   "metadata": {},
   "outputs": [],
   "source": [
    "pred = model.predict(x_test)"
   ]
  },
  {
   "cell_type": "code",
   "execution_count": 10,
   "metadata": {},
   "outputs": [
    {
     "name": "stdout",
     "output_type": "stream",
     "text": [
      "Предсказанная стоимость: 18.5375 , правильная стоимость: 18.8\n"
     ]
    }
   ],
   "source": [
    "print(\"Предсказанная стоимость:\", pred[1][0], \", правильная стоимость:\", y_test[1])"
   ]
  }
 ],
 "metadata": {
  "kernelspec": {
   "display_name": "Python 3",
   "language": "python",
   "name": "python3"
  },
  "language_info": {
   "codemirror_mode": {
    "name": "ipython",
    "version": 3
   },
   "file_extension": ".py",
   "mimetype": "text/x-python",
   "name": "python",
   "nbconvert_exporter": "python",
   "pygments_lexer": "ipython3",
   "version": "3.5.5"
  }
 },
 "nbformat": 4,
 "nbformat_minor": 2
}
