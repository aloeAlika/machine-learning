{
 "cells": [
  {
   "cell_type": "markdown",
   "metadata": {},
   "source": [
    "\n",
    "## Задание 1.  \n",
    "\n",
    "Выполните базовую версию программы обучения нейронной сети распознаванию рукописных цифр.\n",
    "\n",
    "## Задание 2. \n",
    "Попытайтесь улучшить качество обучения сети путем изменения гиперпараметров: количество эпох обучения, размер мини-выборки, количество нейронов во входном слое, количество скрытых слоев. Для этого проведите серию экспериментов, в каждом из которых меняйте один из гиперпараметров, и анализируйте, как изменилось качество работы сети.\n",
    "\n",
    "\n",
    "## Задание 3\n",
    "\n",
    "Создайте сеть с лучшими значениями гиперпараметров. \n",
    "\n"
   ]
  },
  {
   "cell_type": "code",
   "execution_count": 1,
   "metadata": {},
   "outputs": [
    {
     "name": "stderr",
     "output_type": "stream",
     "text": [
      "C:\\Users\\Alexandra\\Anaconda2\\envs\\py35\\lib\\site-packages\\h5py\\__init__.py:36: FutureWarning: Conversion of the second argument of issubdtype from `float` to `np.floating` is deprecated. In future, it will be treated as `np.float64 == np.dtype(float).type`.\n",
      "  from ._conv import register_converters as _register_converters\n",
      "Using TensorFlow backend.\n"
     ]
    },
    {
     "name": "stdout",
     "output_type": "stream",
     "text": [
      "_________________________________________________________________\n",
      "Layer (type)                 Output Shape              Param #   \n",
      "=================================================================\n",
      "dense_1 (Dense)              (None, 1200)              942000    \n",
      "_________________________________________________________________\n",
      "dense_2 (Dense)              (None, 1200)              1441200   \n",
      "_________________________________________________________________\n",
      "dense_3 (Dense)              (None, 10)                12010     \n",
      "=================================================================\n",
      "Total params: 2,395,210\n",
      "Trainable params: 2,395,210\n",
      "Non-trainable params: 0\n",
      "_________________________________________________________________\n",
      "None\n",
      "Train on 48000 samples, validate on 12000 samples\n",
      "Epoch 1/5\n",
      " - 166s - loss: 0.5084 - acc: 0.8674 - val_loss: 0.2771 - val_acc: 0.9244\n",
      "Epoch 2/5\n",
      " - 166s - loss: 0.2615 - acc: 0.9274 - val_loss: 0.2203 - val_acc: 0.9398\n",
      "Epoch 3/5\n",
      " - 109s - loss: 0.2127 - acc: 0.9394 - val_loss: 0.1924 - val_acc: 0.9475\n",
      "Epoch 4/5\n",
      " - 94s - loss: 0.1829 - acc: 0.9481 - val_loss: 0.1722 - val_acc: 0.9533\n",
      "Epoch 5/5\n",
      " - 92s - loss: 0.1607 - acc: 0.9552 - val_loss: 0.1568 - val_acc: 0.9565\n",
      "Точность работы на тестовых данных: 95.53%\n",
      "Сохранили Model\n"
     ]
    }
   ],
   "source": [
    "import numpy\n",
    "from keras.datasets import mnist\n",
    "from keras.models import Sequential\n",
    "from keras.layers import Dense\n",
    "from keras.utils import np_utils\n",
    "\n",
    "# Устанавливаем seed для повторяемости результатов\n",
    "numpy.random.seed(42)\n",
    "\n",
    "# Загружаем данные\n",
    "(X_train, y_train), (X_test, y_test) = mnist.load_data()\n",
    "\n",
    "# Преобразование размерности изображений\n",
    "X_train = X_train.reshape(60000, 784)\n",
    "X_test = X_test.reshape(10000, 784)\n",
    "# Нормализация данных\n",
    "X_train = X_train.astype('float32')\n",
    "X_test = X_test.astype('float32')\n",
    "X_train /= 255\n",
    "X_test /= 255\n",
    "\n",
    "# Преобразуем метки в категории\n",
    "Y_train = np_utils.to_categorical(y_train, 10)\n",
    "Y_test = np_utils.to_categorical(y_test, 10)\n",
    "\n",
    "# Создаем последовательную модель\n",
    "model = Sequential()\n",
    "\n",
    "# Добавляем уровни сети\n",
    "model.add(Dense(1200, input_dim=784, activation=\"relu\", kernel_initializer=\"normal\"))\n",
    "model.add(Dense(1200, activation=\"relu\", kernel_initializer=\"normal\"))\n",
    "model.add(Dense(10, activation=\"softmax\", kernel_initializer=\"normal\"))\n",
    "\n",
    "# Компилируем модель\n",
    "model.compile(loss=\"categorical_crossentropy\", optimizer=\"SGD\", metrics=[\"accuracy\"])\n",
    "\n",
    "print(model.summary())\n",
    "\n",
    "# Обучаем сеть\n",
    "model.fit(X_train, Y_train, batch_size=50, epochs=5, validation_split=0.2, verbose=2)\n",
    "\n",
    "# Оцениваем качество обучения сети на тестовых данных\n",
    "scores = model.evaluate(X_test, Y_test, verbose=0)\n",
    "print(\"Точность работы на тестовых данных: %.2f%%\" % (scores[1]*100))\n",
    "\n",
    "# Генерируем описание модели в формате json\n",
    "model_json = model.to_json()\n",
    "# Записываем модель в файл\n",
    "json_file = open(\"mnist_model.json\", \"w\")\n",
    "json_file.write(model_json)\n",
    "json_file.close()\n",
    "\n",
    "model.save_weights(\"mnist_model.h5\")\n",
    "\n",
    "print (\"Сохранили Model\")\n",
    "\n"
   ]
  },
  {
   "cell_type": "markdown",
   "metadata": {},
   "source": [
    "# Лаб.  6.1 (задания 1 – 3)\n",
    "## Задание 1.  (из  темы  6.1): \n",
    "\n",
    "Сохраните обученую нейронную сеть распознавания рукописных цифр.\n",
    "\n",
    "\n",
    "\n",
    "## Задание 2.  (из  темы  6.1): \n",
    "\n",
    "Загрузите сохраненную нейронную сеть распознавания рукописных цифр. Проверьте точность загруженной сети на тестовых данных\n",
    "\n",
    "\n",
    "\n",
    "## Задание 3  (из темы 6.1): \n",
    "\n",
    "Используйте загруженную сеть для распознавания созданной Вами рукописной цифры, равной числу букв в Вашем имени.\n"
   ]
  },
  {
   "cell_type": "code",
   "execution_count": 2,
   "metadata": {},
   "outputs": [
    {
     "name": "stdout",
     "output_type": "stream",
     "text": [
      "Accuracy on the test data: 95.53%\n"
     ]
    }
   ],
   "source": [
    "import numpy\n",
    "from keras.datasets import mnist\n",
    "from keras.models import model_from_json\n",
    "from keras.layers import Dense\n",
    "from keras.utils import np_utils\n",
    "\n",
    "# Загружаем данные об архитектуре сети из файла json\n",
    "json_file = open(\"mnist_model.json\", \"r\")\n",
    "loaded_model_json = json_file.read()\n",
    "json_file.close()\n",
    "# Создаем модель на основе загруженных данных\n",
    "loaded_model = model_from_json(loaded_model_json)\n",
    "# Загружаем веса в модель\n",
    "loaded_model.load_weights(\"mnist_model.h5\")\n",
    "\n",
    "# Компилируем модель\n",
    "loaded_model.compile(loss=\"categorical_crossentropy\", optimizer=\"SGD\", metrics=[\"accuracy\"])\n",
    "# Проверяем модель на тестовых данных\n",
    "scores = loaded_model.evaluate(X_test, Y_test, verbose=0)\n",
    "print(\"Accuracy on the test data: %.2f%%\" % (scores[1]*100))"
   ]
  },
  {
   "cell_type": "code",
   "execution_count": 3,
   "metadata": {},
   "outputs": [
    {
     "name": "stdout",
     "output_type": "stream",
     "text": [
      "[[0.06672083 0.09194405 0.09111684 0.06824728 0.1603917  0.11548085\n",
      "  0.09232701 0.13505577 0.075857   0.10285866]]\n",
      "[4]\n"
     ]
    }
   ],
   "source": [
    "import numpy as np \n",
    "from PIL import Image\n",
    "\n",
    "im = Image.open('4.png')\n",
    "im_grey = im.convert('L')\n",
    "im_array = np.array(im_grey)\n",
    "im_array=np.reshape(im_array, (1, 784)).astype('float32')\n",
    "\n",
    "# Инвертируем изображение\n",
    "x = 255 - im_array\n",
    "# Нормализуем изображение\n",
    "x /= 255\n",
    "# Нейронная сеть предсказывает класс изображения\n",
    "prediction = model.predict(x)\n",
    "print(prediction)\n",
    "# Преобразуем ответ из категориального представления в метку класса\n",
    "prediction = numpy.argmax(prediction, axis=1)\n",
    "# Печатаем результат\n",
    "print(prediction)"
   ]
  }
 ],
 "metadata": {
  "kernelspec": {
   "display_name": "Python 3",
   "language": "python",
   "name": "python3"
  },
  "language_info": {
   "codemirror_mode": {
    "name": "ipython",
    "version": 3
   },
   "file_extension": ".py",
   "mimetype": "text/x-python",
   "name": "python",
   "nbconvert_exporter": "python",
   "pygments_lexer": "ipython3",
   "version": "3.5.5"
  }
 },
 "nbformat": 4,
 "nbformat_minor": 2
}
